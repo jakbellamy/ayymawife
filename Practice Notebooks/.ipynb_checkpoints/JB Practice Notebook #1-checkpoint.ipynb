{
 "cells": [
  {
   "cell_type": "code",
   "execution_count": 1,
   "id": "0835ab29-d5a4-4fd9-900b-4850a6e9faf5",
   "metadata": {},
   "outputs": [
    {
     "data": {
      "text/plain": [
       "\"Ayy I'm Borat!\""
      ]
     },
     "execution_count": 1,
     "metadata": {},
     "output_type": "execute_result"
    }
   ],
   "source": [
    "test_str = \"Ayy I'm Borat!\""
   ]
  },
  {
   "cell_type": "code",
   "execution_count": 2,
   "id": "4e4f66b6-39f2-40a3-9ed0-238ffb814699",
   "metadata": {},
   "outputs": [
    {
     "data": {
      "text/plain": [
       "\"Ayy I'm Borat!\""
      ]
     },
     "execution_count": 2,
     "metadata": {},
     "output_type": "execute_result"
    }
   ],
   "source": [
    "test_str"
   ]
  },
  {
   "cell_type": "code",
   "execution_count": null,
   "id": "81af803b-5035-406b-8a2f-52a677a72141",
   "metadata": {},
   "outputs": [],
   "source": []
  }
 ],
 "metadata": {
  "kernelspec": {
   "display_name": "Julia 1.7.1",
   "language": "julia",
   "name": "julia-1.7"
  },
  "language_info": {
   "file_extension": ".jl",
   "mimetype": "application/julia",
   "name": "julia",
   "version": "1.7.1"
  }
 },
 "nbformat": 4,
 "nbformat_minor": 5
}
